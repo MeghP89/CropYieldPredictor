{
 "cells": [
  {
   "metadata": {
    "ExecuteTime": {
     "end_time": "2025-08-15T05:16:01.133352Z",
     "start_time": "2025-08-15T05:16:01.131079Z"
    }
   },
   "cell_type": "code",
   "source": "import pandas as pd",
   "id": "ec9114930e820182",
   "outputs": [],
   "execution_count": 76
  },
  {
   "metadata": {
    "ExecuteTime": {
     "end_time": "2025-08-15T05:16:01.168049Z",
     "start_time": "2025-08-15T05:16:01.161002Z"
    }
   },
   "cell_type": "code",
   "source": "corn_yields = pd.read_csv('Data/CornCropYieldsCentralIL.csv')",
   "id": "d7fcc5dda9e53c32",
   "outputs": [],
   "execution_count": 77
  },
  {
   "metadata": {
    "ExecuteTime": {
     "end_time": "2025-08-15T05:16:01.196178Z",
     "start_time": "2025-08-15T05:16:01.184828Z"
    }
   },
   "cell_type": "code",
   "source": "corn_yields.head()",
   "id": "5c82ba2f35848d7e",
   "outputs": [
    {
     "data": {
      "text/plain": [
       "  Program  YEAR Period  Week Ending Geo Level     State  State ANSI  \\\n",
       "0  SURVEY  2024   YEAR          NaN    COUNTY  ILLINOIS          17   \n",
       "1  SURVEY  2024   YEAR          NaN    COUNTY  ILLINOIS          17   \n",
       "2  SURVEY  2024   YEAR          NaN    COUNTY  ILLINOIS          17   \n",
       "3  SURVEY  2024   YEAR          NaN    COUNTY  ILLINOIS          17   \n",
       "4  SURVEY  2024   YEAR          NaN    COUNTY  ILLINOIS          17   \n",
       "\n",
       "  Ag District  Ag District Code  County  ...  Zip Code  Region  \\\n",
       "0     CENTRAL                40   LOGAN  ...       NaN     NaN   \n",
       "1     CENTRAL                40   MACON  ...       NaN     NaN   \n",
       "2     CENTRAL                40  MCLEAN  ...       NaN     NaN   \n",
       "3     CENTRAL                40  MENARD  ...       NaN     NaN   \n",
       "4     CENTRAL                40  PEORIA  ...       NaN     NaN   \n",
       "\n",
       "   watershed_code  Watershed  Commodity  \\\n",
       "0               0        NaN       CORN   \n",
       "1               0        NaN       CORN   \n",
       "2               0        NaN       CORN   \n",
       "3               0        NaN       CORN   \n",
       "4               0        NaN       CORN   \n",
       "\n",
       "                                    Data Item Domain Domain Category  YIELD  \\\n",
       "0  CORN, GRAIN - YIELD, MEASURED IN BU / ACRE  TOTAL   NOT SPECIFIED  234.5   \n",
       "1  CORN, GRAIN - YIELD, MEASURED IN BU / ACRE  TOTAL   NOT SPECIFIED  243.8   \n",
       "2  CORN, GRAIN - YIELD, MEASURED IN BU / ACRE  TOTAL   NOT SPECIFIED  246.7   \n",
       "3  CORN, GRAIN - YIELD, MEASURED IN BU / ACRE  TOTAL   NOT SPECIFIED  241.7   \n",
       "4  CORN, GRAIN - YIELD, MEASURED IN BU / ACRE  TOTAL   NOT SPECIFIED  218.4   \n",
       "\n",
       "   CV (%)  \n",
       "0     1.9  \n",
       "1     2.1  \n",
       "2     1.7  \n",
       "3     1.5  \n",
       "4     6.8  \n",
       "\n",
       "[5 rows x 21 columns]"
      ],
      "text/html": [
       "<div>\n",
       "<style scoped>\n",
       "    .dataframe tbody tr th:only-of-type {\n",
       "        vertical-align: middle;\n",
       "    }\n",
       "\n",
       "    .dataframe tbody tr th {\n",
       "        vertical-align: top;\n",
       "    }\n",
       "\n",
       "    .dataframe thead th {\n",
       "        text-align: right;\n",
       "    }\n",
       "</style>\n",
       "<table border=\"1\" class=\"dataframe\">\n",
       "  <thead>\n",
       "    <tr style=\"text-align: right;\">\n",
       "      <th></th>\n",
       "      <th>Program</th>\n",
       "      <th>YEAR</th>\n",
       "      <th>Period</th>\n",
       "      <th>Week Ending</th>\n",
       "      <th>Geo Level</th>\n",
       "      <th>State</th>\n",
       "      <th>State ANSI</th>\n",
       "      <th>Ag District</th>\n",
       "      <th>Ag District Code</th>\n",
       "      <th>County</th>\n",
       "      <th>...</th>\n",
       "      <th>Zip Code</th>\n",
       "      <th>Region</th>\n",
       "      <th>watershed_code</th>\n",
       "      <th>Watershed</th>\n",
       "      <th>Commodity</th>\n",
       "      <th>Data Item</th>\n",
       "      <th>Domain</th>\n",
       "      <th>Domain Category</th>\n",
       "      <th>YIELD</th>\n",
       "      <th>CV (%)</th>\n",
       "    </tr>\n",
       "  </thead>\n",
       "  <tbody>\n",
       "    <tr>\n",
       "      <th>0</th>\n",
       "      <td>SURVEY</td>\n",
       "      <td>2024</td>\n",
       "      <td>YEAR</td>\n",
       "      <td>NaN</td>\n",
       "      <td>COUNTY</td>\n",
       "      <td>ILLINOIS</td>\n",
       "      <td>17</td>\n",
       "      <td>CENTRAL</td>\n",
       "      <td>40</td>\n",
       "      <td>LOGAN</td>\n",
       "      <td>...</td>\n",
       "      <td>NaN</td>\n",
       "      <td>NaN</td>\n",
       "      <td>0</td>\n",
       "      <td>NaN</td>\n",
       "      <td>CORN</td>\n",
       "      <td>CORN, GRAIN - YIELD, MEASURED IN BU / ACRE</td>\n",
       "      <td>TOTAL</td>\n",
       "      <td>NOT SPECIFIED</td>\n",
       "      <td>234.5</td>\n",
       "      <td>1.9</td>\n",
       "    </tr>\n",
       "    <tr>\n",
       "      <th>1</th>\n",
       "      <td>SURVEY</td>\n",
       "      <td>2024</td>\n",
       "      <td>YEAR</td>\n",
       "      <td>NaN</td>\n",
       "      <td>COUNTY</td>\n",
       "      <td>ILLINOIS</td>\n",
       "      <td>17</td>\n",
       "      <td>CENTRAL</td>\n",
       "      <td>40</td>\n",
       "      <td>MACON</td>\n",
       "      <td>...</td>\n",
       "      <td>NaN</td>\n",
       "      <td>NaN</td>\n",
       "      <td>0</td>\n",
       "      <td>NaN</td>\n",
       "      <td>CORN</td>\n",
       "      <td>CORN, GRAIN - YIELD, MEASURED IN BU / ACRE</td>\n",
       "      <td>TOTAL</td>\n",
       "      <td>NOT SPECIFIED</td>\n",
       "      <td>243.8</td>\n",
       "      <td>2.1</td>\n",
       "    </tr>\n",
       "    <tr>\n",
       "      <th>2</th>\n",
       "      <td>SURVEY</td>\n",
       "      <td>2024</td>\n",
       "      <td>YEAR</td>\n",
       "      <td>NaN</td>\n",
       "      <td>COUNTY</td>\n",
       "      <td>ILLINOIS</td>\n",
       "      <td>17</td>\n",
       "      <td>CENTRAL</td>\n",
       "      <td>40</td>\n",
       "      <td>MCLEAN</td>\n",
       "      <td>...</td>\n",
       "      <td>NaN</td>\n",
       "      <td>NaN</td>\n",
       "      <td>0</td>\n",
       "      <td>NaN</td>\n",
       "      <td>CORN</td>\n",
       "      <td>CORN, GRAIN - YIELD, MEASURED IN BU / ACRE</td>\n",
       "      <td>TOTAL</td>\n",
       "      <td>NOT SPECIFIED</td>\n",
       "      <td>246.7</td>\n",
       "      <td>1.7</td>\n",
       "    </tr>\n",
       "    <tr>\n",
       "      <th>3</th>\n",
       "      <td>SURVEY</td>\n",
       "      <td>2024</td>\n",
       "      <td>YEAR</td>\n",
       "      <td>NaN</td>\n",
       "      <td>COUNTY</td>\n",
       "      <td>ILLINOIS</td>\n",
       "      <td>17</td>\n",
       "      <td>CENTRAL</td>\n",
       "      <td>40</td>\n",
       "      <td>MENARD</td>\n",
       "      <td>...</td>\n",
       "      <td>NaN</td>\n",
       "      <td>NaN</td>\n",
       "      <td>0</td>\n",
       "      <td>NaN</td>\n",
       "      <td>CORN</td>\n",
       "      <td>CORN, GRAIN - YIELD, MEASURED IN BU / ACRE</td>\n",
       "      <td>TOTAL</td>\n",
       "      <td>NOT SPECIFIED</td>\n",
       "      <td>241.7</td>\n",
       "      <td>1.5</td>\n",
       "    </tr>\n",
       "    <tr>\n",
       "      <th>4</th>\n",
       "      <td>SURVEY</td>\n",
       "      <td>2024</td>\n",
       "      <td>YEAR</td>\n",
       "      <td>NaN</td>\n",
       "      <td>COUNTY</td>\n",
       "      <td>ILLINOIS</td>\n",
       "      <td>17</td>\n",
       "      <td>CENTRAL</td>\n",
       "      <td>40</td>\n",
       "      <td>PEORIA</td>\n",
       "      <td>...</td>\n",
       "      <td>NaN</td>\n",
       "      <td>NaN</td>\n",
       "      <td>0</td>\n",
       "      <td>NaN</td>\n",
       "      <td>CORN</td>\n",
       "      <td>CORN, GRAIN - YIELD, MEASURED IN BU / ACRE</td>\n",
       "      <td>TOTAL</td>\n",
       "      <td>NOT SPECIFIED</td>\n",
       "      <td>218.4</td>\n",
       "      <td>6.8</td>\n",
       "    </tr>\n",
       "  </tbody>\n",
       "</table>\n",
       "<p>5 rows × 21 columns</p>\n",
       "</div>"
      ]
     },
     "execution_count": 78,
     "metadata": {},
     "output_type": "execute_result"
    }
   ],
   "execution_count": 78
  },
  {
   "metadata": {
    "ExecuteTime": {
     "end_time": "2025-08-15T05:16:01.240381Z",
     "start_time": "2025-08-15T05:16:01.235420Z"
    }
   },
   "cell_type": "code",
   "source": "corn_yields.columns",
   "id": "55925efd48efb5dc",
   "outputs": [
    {
     "data": {
      "text/plain": [
       "Index(['Program', 'YEAR', 'Period', 'Week Ending', 'Geo Level', 'State',\n",
       "       'State ANSI', 'Ag District', 'Ag District Code', 'County',\n",
       "       'County ANSI', 'Zip Code', 'Region', 'watershed_code', 'Watershed',\n",
       "       'Commodity', 'Data Item', 'Domain', 'Domain Category', 'YIELD',\n",
       "       'CV (%)'],\n",
       "      dtype='object')"
      ]
     },
     "execution_count": 79,
     "metadata": {},
     "output_type": "execute_result"
    }
   ],
   "execution_count": 79
  },
  {
   "metadata": {
    "ExecuteTime": {
     "end_time": "2025-08-15T05:16:01.328748Z",
     "start_time": "2025-08-15T05:16:01.321132Z"
    }
   },
   "cell_type": "code",
   "source": [
    "precipitation_avg = pd.read_csv(\"Data/PrecipitationAverage.csv\")\n",
    "precipitation_avg.pop('PARAMETER')\n",
    "precipitation_avg.pop('LAT')\n",
    "precipitation_avg.pop('LON')"
   ],
   "id": "e70f282c3326a6e4",
   "outputs": [
    {
     "data": {
      "text/plain": [
       "0     -88.125\n",
       "1     -88.750\n",
       "2     -89.375\n",
       "3     -90.000\n",
       "4     -88.125\n",
       "        ...  \n",
       "395   -90.000\n",
       "396   -88.125\n",
       "397   -88.750\n",
       "398   -89.375\n",
       "399   -90.000\n",
       "Name: LON, Length: 400, dtype: float64"
      ]
     },
     "execution_count": 80,
     "metadata": {},
     "output_type": "execute_result"
    }
   ],
   "execution_count": 80
  },
  {
   "metadata": {
    "ExecuteTime": {
     "end_time": "2025-08-15T05:16:01.459618Z",
     "start_time": "2025-08-15T05:16:01.453508Z"
    }
   },
   "cell_type": "code",
   "source": [
    "month_list = ['JAN', 'FEB', 'MAR', 'APR', 'SEP', 'OCT', 'NOV', 'DEC', 'ANN']\n",
    "for month in month_list:\n",
    "    precipitation_avg.pop(month)"
   ],
   "id": "cbb433a01d7d330b",
   "outputs": [],
   "execution_count": 81
  },
  {
   "metadata": {
    "ExecuteTime": {
     "end_time": "2025-08-15T05:16:01.545177Z",
     "start_time": "2025-08-15T05:16:01.536268Z"
    }
   },
   "cell_type": "code",
   "source": "precipitation_avg",
   "id": "43e33fd723428ac9",
   "outputs": [
    {
     "data": {
      "text/plain": [
       "     YEAR   MAY   JUN   JUL   AUG\n",
       "0    2000  3.41  5.84  4.24  4.06\n",
       "1    2000  3.39  5.90  4.09  3.76\n",
       "2    2000  3.38  5.71  3.70  3.42\n",
       "3    2000  3.33  6.16  3.84  2.94\n",
       "4    2000  3.35  5.23  3.10  3.26\n",
       "..    ...   ...   ...   ...   ...\n",
       "395  2024  2.52  1.95  5.50  2.67\n",
       "396  2024  3.53  2.74  4.35  2.62\n",
       "397  2024  3.58  2.77  4.11  2.63\n",
       "398  2024  2.92  2.76  4.32  2.34\n",
       "399  2024  2.50  2.68  5.28  2.35\n",
       "\n",
       "[400 rows x 5 columns]"
      ],
      "text/html": [
       "<div>\n",
       "<style scoped>\n",
       "    .dataframe tbody tr th:only-of-type {\n",
       "        vertical-align: middle;\n",
       "    }\n",
       "\n",
       "    .dataframe tbody tr th {\n",
       "        vertical-align: top;\n",
       "    }\n",
       "\n",
       "    .dataframe thead th {\n",
       "        text-align: right;\n",
       "    }\n",
       "</style>\n",
       "<table border=\"1\" class=\"dataframe\">\n",
       "  <thead>\n",
       "    <tr style=\"text-align: right;\">\n",
       "      <th></th>\n",
       "      <th>YEAR</th>\n",
       "      <th>MAY</th>\n",
       "      <th>JUN</th>\n",
       "      <th>JUL</th>\n",
       "      <th>AUG</th>\n",
       "    </tr>\n",
       "  </thead>\n",
       "  <tbody>\n",
       "    <tr>\n",
       "      <th>0</th>\n",
       "      <td>2000</td>\n",
       "      <td>3.41</td>\n",
       "      <td>5.84</td>\n",
       "      <td>4.24</td>\n",
       "      <td>4.06</td>\n",
       "    </tr>\n",
       "    <tr>\n",
       "      <th>1</th>\n",
       "      <td>2000</td>\n",
       "      <td>3.39</td>\n",
       "      <td>5.90</td>\n",
       "      <td>4.09</td>\n",
       "      <td>3.76</td>\n",
       "    </tr>\n",
       "    <tr>\n",
       "      <th>2</th>\n",
       "      <td>2000</td>\n",
       "      <td>3.38</td>\n",
       "      <td>5.71</td>\n",
       "      <td>3.70</td>\n",
       "      <td>3.42</td>\n",
       "    </tr>\n",
       "    <tr>\n",
       "      <th>3</th>\n",
       "      <td>2000</td>\n",
       "      <td>3.33</td>\n",
       "      <td>6.16</td>\n",
       "      <td>3.84</td>\n",
       "      <td>2.94</td>\n",
       "    </tr>\n",
       "    <tr>\n",
       "      <th>4</th>\n",
       "      <td>2000</td>\n",
       "      <td>3.35</td>\n",
       "      <td>5.23</td>\n",
       "      <td>3.10</td>\n",
       "      <td>3.26</td>\n",
       "    </tr>\n",
       "    <tr>\n",
       "      <th>...</th>\n",
       "      <td>...</td>\n",
       "      <td>...</td>\n",
       "      <td>...</td>\n",
       "      <td>...</td>\n",
       "      <td>...</td>\n",
       "    </tr>\n",
       "    <tr>\n",
       "      <th>395</th>\n",
       "      <td>2024</td>\n",
       "      <td>2.52</td>\n",
       "      <td>1.95</td>\n",
       "      <td>5.50</td>\n",
       "      <td>2.67</td>\n",
       "    </tr>\n",
       "    <tr>\n",
       "      <th>396</th>\n",
       "      <td>2024</td>\n",
       "      <td>3.53</td>\n",
       "      <td>2.74</td>\n",
       "      <td>4.35</td>\n",
       "      <td>2.62</td>\n",
       "    </tr>\n",
       "    <tr>\n",
       "      <th>397</th>\n",
       "      <td>2024</td>\n",
       "      <td>3.58</td>\n",
       "      <td>2.77</td>\n",
       "      <td>4.11</td>\n",
       "      <td>2.63</td>\n",
       "    </tr>\n",
       "    <tr>\n",
       "      <th>398</th>\n",
       "      <td>2024</td>\n",
       "      <td>2.92</td>\n",
       "      <td>2.76</td>\n",
       "      <td>4.32</td>\n",
       "      <td>2.34</td>\n",
       "    </tr>\n",
       "    <tr>\n",
       "      <th>399</th>\n",
       "      <td>2024</td>\n",
       "      <td>2.50</td>\n",
       "      <td>2.68</td>\n",
       "      <td>5.28</td>\n",
       "      <td>2.35</td>\n",
       "    </tr>\n",
       "  </tbody>\n",
       "</table>\n",
       "<p>400 rows × 5 columns</p>\n",
       "</div>"
      ]
     },
     "execution_count": 82,
     "metadata": {},
     "output_type": "execute_result"
    }
   ],
   "execution_count": 82
  },
  {
   "metadata": {
    "ExecuteTime": {
     "end_time": "2025-08-15T05:16:01.870513Z",
     "start_time": "2025-08-15T05:16:01.862943Z"
    }
   },
   "cell_type": "code",
   "source": [
    "corn_months = ['MAY', 'JUN', 'JUL', 'AUG']\n",
    "\n",
    "corn_avg_by_year = (\n",
    "    precipitation_avg\n",
    "    .groupby('YEAR')[corn_months]\n",
    "    .mean()               # average for each month within the year\n",
    "    .assign(AVG_PRECIPITATION=lambda df: df.mean(axis=1))  # mean across months\n",
    "    .reset_index()\n",
    ")\n"
   ],
   "id": "b68953e28edcfc5e",
   "outputs": [],
   "execution_count": 83
  },
  {
   "metadata": {
    "ExecuteTime": {
     "end_time": "2025-08-15T05:16:01.927039Z",
     "start_time": "2025-08-15T05:16:01.913963Z"
    }
   },
   "cell_type": "code",
   "source": "corn_avg_by_year",
   "id": "780b170d70e921ac",
   "outputs": [
    {
     "data": {
      "text/plain": [
       "    YEAR       MAY       JUN       JUL       AUG  AVG_PRECIPITATION\n",
       "0   2000  3.385000  4.983750  3.331250  2.626875           3.581719\n",
       "1   2001  3.488125  3.054375  2.812500  3.259375           3.153594\n",
       "2   2002  5.867500  3.481875  2.454375  3.774375           3.894531\n",
       "3   2003  3.650625  3.070625  4.817500  3.318750           3.714375\n",
       "4   2004  5.033750  2.633125  3.278125  4.113750           3.764687\n",
       "5   2005  1.255625  1.502500  2.625000  2.482500           1.966406\n",
       "6   2006  2.439375  2.052500  3.439375  3.443125           2.843594\n",
       "7   2007  1.907500  3.511875  2.867500  3.376250           2.915781\n",
       "8   2008  4.134375  5.239375  5.213125  1.538750           4.031406\n",
       "9   2009  4.411875  4.460000  3.636250  3.840625           4.087187\n",
       "10  2010  4.656250  7.191250  3.899375  2.577500           4.581094\n",
       "11  2011  4.135000  5.140000  2.045000  1.201250           3.130312\n",
       "12  2012  2.299375  1.143750  0.733125  3.458750           1.908750\n",
       "13  2013  6.346875  3.541875  2.095000  1.026250           3.252500\n",
       "14  2014  2.366250  6.195000  2.236250  3.961875           3.689844\n",
       "15  2015  4.311250  7.971875  3.830000  2.117500           4.557656\n",
       "16  2016  2.919375  2.865625  5.477500  5.179375           4.110469\n",
       "17  2017  3.778125  2.336250  3.436250  1.841250           2.847969\n",
       "18  2018  2.570000  5.051875  3.158750  3.751875           3.633125\n",
       "19  2019  5.676250  4.086250  2.010000  2.954375           3.681719\n",
       "20  2020  4.230000  2.872500  4.377500  1.046250           3.131563\n",
       "21  2021  4.027500  5.750000  3.493125  3.218750           4.122344\n",
       "22  2022  3.165000  2.040625  3.886250  3.663750           3.188906\n",
       "23  2023  2.010625  1.845625  3.543750  3.438750           2.709688\n",
       "24  2024  3.174375  2.117500  5.403125  2.366875           3.265469"
      ],
      "text/html": [
       "<div>\n",
       "<style scoped>\n",
       "    .dataframe tbody tr th:only-of-type {\n",
       "        vertical-align: middle;\n",
       "    }\n",
       "\n",
       "    .dataframe tbody tr th {\n",
       "        vertical-align: top;\n",
       "    }\n",
       "\n",
       "    .dataframe thead th {\n",
       "        text-align: right;\n",
       "    }\n",
       "</style>\n",
       "<table border=\"1\" class=\"dataframe\">\n",
       "  <thead>\n",
       "    <tr style=\"text-align: right;\">\n",
       "      <th></th>\n",
       "      <th>YEAR</th>\n",
       "      <th>MAY</th>\n",
       "      <th>JUN</th>\n",
       "      <th>JUL</th>\n",
       "      <th>AUG</th>\n",
       "      <th>AVG_PRECIPITATION</th>\n",
       "    </tr>\n",
       "  </thead>\n",
       "  <tbody>\n",
       "    <tr>\n",
       "      <th>0</th>\n",
       "      <td>2000</td>\n",
       "      <td>3.385000</td>\n",
       "      <td>4.983750</td>\n",
       "      <td>3.331250</td>\n",
       "      <td>2.626875</td>\n",
       "      <td>3.581719</td>\n",
       "    </tr>\n",
       "    <tr>\n",
       "      <th>1</th>\n",
       "      <td>2001</td>\n",
       "      <td>3.488125</td>\n",
       "      <td>3.054375</td>\n",
       "      <td>2.812500</td>\n",
       "      <td>3.259375</td>\n",
       "      <td>3.153594</td>\n",
       "    </tr>\n",
       "    <tr>\n",
       "      <th>2</th>\n",
       "      <td>2002</td>\n",
       "      <td>5.867500</td>\n",
       "      <td>3.481875</td>\n",
       "      <td>2.454375</td>\n",
       "      <td>3.774375</td>\n",
       "      <td>3.894531</td>\n",
       "    </tr>\n",
       "    <tr>\n",
       "      <th>3</th>\n",
       "      <td>2003</td>\n",
       "      <td>3.650625</td>\n",
       "      <td>3.070625</td>\n",
       "      <td>4.817500</td>\n",
       "      <td>3.318750</td>\n",
       "      <td>3.714375</td>\n",
       "    </tr>\n",
       "    <tr>\n",
       "      <th>4</th>\n",
       "      <td>2004</td>\n",
       "      <td>5.033750</td>\n",
       "      <td>2.633125</td>\n",
       "      <td>3.278125</td>\n",
       "      <td>4.113750</td>\n",
       "      <td>3.764687</td>\n",
       "    </tr>\n",
       "    <tr>\n",
       "      <th>5</th>\n",
       "      <td>2005</td>\n",
       "      <td>1.255625</td>\n",
       "      <td>1.502500</td>\n",
       "      <td>2.625000</td>\n",
       "      <td>2.482500</td>\n",
       "      <td>1.966406</td>\n",
       "    </tr>\n",
       "    <tr>\n",
       "      <th>6</th>\n",
       "      <td>2006</td>\n",
       "      <td>2.439375</td>\n",
       "      <td>2.052500</td>\n",
       "      <td>3.439375</td>\n",
       "      <td>3.443125</td>\n",
       "      <td>2.843594</td>\n",
       "    </tr>\n",
       "    <tr>\n",
       "      <th>7</th>\n",
       "      <td>2007</td>\n",
       "      <td>1.907500</td>\n",
       "      <td>3.511875</td>\n",
       "      <td>2.867500</td>\n",
       "      <td>3.376250</td>\n",
       "      <td>2.915781</td>\n",
       "    </tr>\n",
       "    <tr>\n",
       "      <th>8</th>\n",
       "      <td>2008</td>\n",
       "      <td>4.134375</td>\n",
       "      <td>5.239375</td>\n",
       "      <td>5.213125</td>\n",
       "      <td>1.538750</td>\n",
       "      <td>4.031406</td>\n",
       "    </tr>\n",
       "    <tr>\n",
       "      <th>9</th>\n",
       "      <td>2009</td>\n",
       "      <td>4.411875</td>\n",
       "      <td>4.460000</td>\n",
       "      <td>3.636250</td>\n",
       "      <td>3.840625</td>\n",
       "      <td>4.087187</td>\n",
       "    </tr>\n",
       "    <tr>\n",
       "      <th>10</th>\n",
       "      <td>2010</td>\n",
       "      <td>4.656250</td>\n",
       "      <td>7.191250</td>\n",
       "      <td>3.899375</td>\n",
       "      <td>2.577500</td>\n",
       "      <td>4.581094</td>\n",
       "    </tr>\n",
       "    <tr>\n",
       "      <th>11</th>\n",
       "      <td>2011</td>\n",
       "      <td>4.135000</td>\n",
       "      <td>5.140000</td>\n",
       "      <td>2.045000</td>\n",
       "      <td>1.201250</td>\n",
       "      <td>3.130312</td>\n",
       "    </tr>\n",
       "    <tr>\n",
       "      <th>12</th>\n",
       "      <td>2012</td>\n",
       "      <td>2.299375</td>\n",
       "      <td>1.143750</td>\n",
       "      <td>0.733125</td>\n",
       "      <td>3.458750</td>\n",
       "      <td>1.908750</td>\n",
       "    </tr>\n",
       "    <tr>\n",
       "      <th>13</th>\n",
       "      <td>2013</td>\n",
       "      <td>6.346875</td>\n",
       "      <td>3.541875</td>\n",
       "      <td>2.095000</td>\n",
       "      <td>1.026250</td>\n",
       "      <td>3.252500</td>\n",
       "    </tr>\n",
       "    <tr>\n",
       "      <th>14</th>\n",
       "      <td>2014</td>\n",
       "      <td>2.366250</td>\n",
       "      <td>6.195000</td>\n",
       "      <td>2.236250</td>\n",
       "      <td>3.961875</td>\n",
       "      <td>3.689844</td>\n",
       "    </tr>\n",
       "    <tr>\n",
       "      <th>15</th>\n",
       "      <td>2015</td>\n",
       "      <td>4.311250</td>\n",
       "      <td>7.971875</td>\n",
       "      <td>3.830000</td>\n",
       "      <td>2.117500</td>\n",
       "      <td>4.557656</td>\n",
       "    </tr>\n",
       "    <tr>\n",
       "      <th>16</th>\n",
       "      <td>2016</td>\n",
       "      <td>2.919375</td>\n",
       "      <td>2.865625</td>\n",
       "      <td>5.477500</td>\n",
       "      <td>5.179375</td>\n",
       "      <td>4.110469</td>\n",
       "    </tr>\n",
       "    <tr>\n",
       "      <th>17</th>\n",
       "      <td>2017</td>\n",
       "      <td>3.778125</td>\n",
       "      <td>2.336250</td>\n",
       "      <td>3.436250</td>\n",
       "      <td>1.841250</td>\n",
       "      <td>2.847969</td>\n",
       "    </tr>\n",
       "    <tr>\n",
       "      <th>18</th>\n",
       "      <td>2018</td>\n",
       "      <td>2.570000</td>\n",
       "      <td>5.051875</td>\n",
       "      <td>3.158750</td>\n",
       "      <td>3.751875</td>\n",
       "      <td>3.633125</td>\n",
       "    </tr>\n",
       "    <tr>\n",
       "      <th>19</th>\n",
       "      <td>2019</td>\n",
       "      <td>5.676250</td>\n",
       "      <td>4.086250</td>\n",
       "      <td>2.010000</td>\n",
       "      <td>2.954375</td>\n",
       "      <td>3.681719</td>\n",
       "    </tr>\n",
       "    <tr>\n",
       "      <th>20</th>\n",
       "      <td>2020</td>\n",
       "      <td>4.230000</td>\n",
       "      <td>2.872500</td>\n",
       "      <td>4.377500</td>\n",
       "      <td>1.046250</td>\n",
       "      <td>3.131563</td>\n",
       "    </tr>\n",
       "    <tr>\n",
       "      <th>21</th>\n",
       "      <td>2021</td>\n",
       "      <td>4.027500</td>\n",
       "      <td>5.750000</td>\n",
       "      <td>3.493125</td>\n",
       "      <td>3.218750</td>\n",
       "      <td>4.122344</td>\n",
       "    </tr>\n",
       "    <tr>\n",
       "      <th>22</th>\n",
       "      <td>2022</td>\n",
       "      <td>3.165000</td>\n",
       "      <td>2.040625</td>\n",
       "      <td>3.886250</td>\n",
       "      <td>3.663750</td>\n",
       "      <td>3.188906</td>\n",
       "    </tr>\n",
       "    <tr>\n",
       "      <th>23</th>\n",
       "      <td>2023</td>\n",
       "      <td>2.010625</td>\n",
       "      <td>1.845625</td>\n",
       "      <td>3.543750</td>\n",
       "      <td>3.438750</td>\n",
       "      <td>2.709688</td>\n",
       "    </tr>\n",
       "    <tr>\n",
       "      <th>24</th>\n",
       "      <td>2024</td>\n",
       "      <td>3.174375</td>\n",
       "      <td>2.117500</td>\n",
       "      <td>5.403125</td>\n",
       "      <td>2.366875</td>\n",
       "      <td>3.265469</td>\n",
       "    </tr>\n",
       "  </tbody>\n",
       "</table>\n",
       "</div>"
      ]
     },
     "execution_count": 84,
     "metadata": {},
     "output_type": "execute_result"
    }
   ],
   "execution_count": 84
  },
  {
   "metadata": {
    "ExecuteTime": {
     "end_time": "2025-08-15T05:16:02.020174Z",
     "start_time": "2025-08-15T05:16:02.014753Z"
    }
   },
   "cell_type": "code",
   "source": "corn_yields.columns",
   "id": "73e7510972eb76ed",
   "outputs": [
    {
     "data": {
      "text/plain": [
       "Index(['Program', 'YEAR', 'Period', 'Week Ending', 'Geo Level', 'State',\n",
       "       'State ANSI', 'Ag District', 'Ag District Code', 'County',\n",
       "       'County ANSI', 'Zip Code', 'Region', 'watershed_code', 'Watershed',\n",
       "       'Commodity', 'Data Item', 'Domain', 'Domain Category', 'YIELD',\n",
       "       'CV (%)'],\n",
       "      dtype='object')"
      ]
     },
     "execution_count": 85,
     "metadata": {},
     "output_type": "execute_result"
    }
   ],
   "execution_count": 85
  },
  {
   "metadata": {
    "ExecuteTime": {
     "end_time": "2025-08-15T05:16:02.133096Z",
     "start_time": "2025-08-15T05:16:02.127396Z"
    }
   },
   "cell_type": "code",
   "source": [
    "to_pop = ['Program', 'Period', 'Week Ending', 'Geo Level', 'State',\n",
    "       'State ANSI', 'Ag District', 'Ag District Code', 'County',\n",
    "       'County ANSI', 'Zip Code', 'Region', 'watershed_code', 'Watershed',\n",
    "       'Commodity', 'Data Item', 'Domain', 'Domain Category', 'CV (%)']\n",
    "for pop in to_pop:\n",
    "    corn_yields.pop(pop)"
   ],
   "id": "73b307b5c2bafd3a",
   "outputs": [],
   "execution_count": 86
  },
  {
   "metadata": {
    "ExecuteTime": {
     "end_time": "2025-08-15T05:16:02.193897Z",
     "start_time": "2025-08-15T05:16:02.188665Z"
    }
   },
   "cell_type": "code",
   "source": [
    "corn_yields = corn_yields.merge(\n",
    "    corn_avg_by_year[['YEAR', 'AVG_PRECIPITATION']],\n",
    "    on='YEAR',\n",
    "    how='left'\n",
    ")"
   ],
   "id": "b14dcf62bce9db45",
   "outputs": [],
   "execution_count": 87
  },
  {
   "metadata": {
    "ExecuteTime": {
     "end_time": "2025-08-15T05:16:02.255487Z",
     "start_time": "2025-08-15T05:16:02.248007Z"
    }
   },
   "cell_type": "code",
   "source": "corn_yields",
   "id": "490a49f48a87ca4a",
   "outputs": [
    {
     "data": {
      "text/plain": [
       "     YEAR  YIELD  AVG_PRECIPITATION\n",
       "0    2024  234.5           3.265469\n",
       "1    2024  243.8           3.265469\n",
       "2    2024  246.7           3.265469\n",
       "3    2024  241.7           3.265469\n",
       "4    2024  218.4           3.265469\n",
       "..    ...    ...                ...\n",
       "261  2000  166.0           3.581719\n",
       "262  2000  151.0           3.581719\n",
       "263  2000  154.0           3.581719\n",
       "264  2000  165.0           3.581719\n",
       "265  2000  158.0           3.581719\n",
       "\n",
       "[266 rows x 3 columns]"
      ],
      "text/html": [
       "<div>\n",
       "<style scoped>\n",
       "    .dataframe tbody tr th:only-of-type {\n",
       "        vertical-align: middle;\n",
       "    }\n",
       "\n",
       "    .dataframe tbody tr th {\n",
       "        vertical-align: top;\n",
       "    }\n",
       "\n",
       "    .dataframe thead th {\n",
       "        text-align: right;\n",
       "    }\n",
       "</style>\n",
       "<table border=\"1\" class=\"dataframe\">\n",
       "  <thead>\n",
       "    <tr style=\"text-align: right;\">\n",
       "      <th></th>\n",
       "      <th>YEAR</th>\n",
       "      <th>YIELD</th>\n",
       "      <th>AVG_PRECIPITATION</th>\n",
       "    </tr>\n",
       "  </thead>\n",
       "  <tbody>\n",
       "    <tr>\n",
       "      <th>0</th>\n",
       "      <td>2024</td>\n",
       "      <td>234.5</td>\n",
       "      <td>3.265469</td>\n",
       "    </tr>\n",
       "    <tr>\n",
       "      <th>1</th>\n",
       "      <td>2024</td>\n",
       "      <td>243.8</td>\n",
       "      <td>3.265469</td>\n",
       "    </tr>\n",
       "    <tr>\n",
       "      <th>2</th>\n",
       "      <td>2024</td>\n",
       "      <td>246.7</td>\n",
       "      <td>3.265469</td>\n",
       "    </tr>\n",
       "    <tr>\n",
       "      <th>3</th>\n",
       "      <td>2024</td>\n",
       "      <td>241.7</td>\n",
       "      <td>3.265469</td>\n",
       "    </tr>\n",
       "    <tr>\n",
       "      <th>4</th>\n",
       "      <td>2024</td>\n",
       "      <td>218.4</td>\n",
       "      <td>3.265469</td>\n",
       "    </tr>\n",
       "    <tr>\n",
       "      <th>...</th>\n",
       "      <td>...</td>\n",
       "      <td>...</td>\n",
       "      <td>...</td>\n",
       "    </tr>\n",
       "    <tr>\n",
       "      <th>261</th>\n",
       "      <td>2000</td>\n",
       "      <td>166.0</td>\n",
       "      <td>3.581719</td>\n",
       "    </tr>\n",
       "    <tr>\n",
       "      <th>262</th>\n",
       "      <td>2000</td>\n",
       "      <td>151.0</td>\n",
       "      <td>3.581719</td>\n",
       "    </tr>\n",
       "    <tr>\n",
       "      <th>263</th>\n",
       "      <td>2000</td>\n",
       "      <td>154.0</td>\n",
       "      <td>3.581719</td>\n",
       "    </tr>\n",
       "    <tr>\n",
       "      <th>264</th>\n",
       "      <td>2000</td>\n",
       "      <td>165.0</td>\n",
       "      <td>3.581719</td>\n",
       "    </tr>\n",
       "    <tr>\n",
       "      <th>265</th>\n",
       "      <td>2000</td>\n",
       "      <td>158.0</td>\n",
       "      <td>3.581719</td>\n",
       "    </tr>\n",
       "  </tbody>\n",
       "</table>\n",
       "<p>266 rows × 3 columns</p>\n",
       "</div>"
      ]
     },
     "execution_count": 88,
     "metadata": {},
     "output_type": "execute_result"
    }
   ],
   "execution_count": 88
  },
  {
   "metadata": {
    "ExecuteTime": {
     "end_time": "2025-08-15T05:16:02.311744Z",
     "start_time": "2025-08-15T05:16:02.304881Z"
    }
   },
   "cell_type": "code",
   "source": "temp_data = pd.read_csv('Data/TempAtTwoMeters.csv')",
   "id": "1f4a7bd780ed2663",
   "outputs": [],
   "execution_count": 89
  },
  {
   "metadata": {
    "ExecuteTime": {
     "end_time": "2025-08-15T05:16:02.433590Z",
     "start_time": "2025-08-15T05:16:02.427831Z"
    }
   },
   "cell_type": "code",
   "source": [
    "corn_months = ['MAY', 'JUN', 'JUL', 'AUG']\n",
    "\n",
    "temp_avg = (\n",
    "    temp_data\n",
    "    .groupby('YEAR')[corn_months]\n",
    "    .mean()               # average for each month within the year\n",
    "    .assign(AVG_TEMPERATURE=lambda df: df.mean(axis=1))  # mean across months\n",
    "    .reset_index()\n",
    ")"
   ],
   "id": "6a647934944945f",
   "outputs": [],
   "execution_count": 90
  },
  {
   "metadata": {
    "ExecuteTime": {
     "end_time": "2025-08-15T05:16:02.494581Z",
     "start_time": "2025-08-15T05:16:02.488148Z"
    }
   },
   "cell_type": "code",
   "source": [
    "corn_yields = corn_yields.merge(\n",
    "    temp_avg[['YEAR', 'AVG_TEMPERATURE']],\n",
    "    on='YEAR',\n",
    "    how='left'\n",
    ")"
   ],
   "id": "3aac23a5b1e62e41",
   "outputs": [],
   "execution_count": 91
  },
  {
   "metadata": {
    "ExecuteTime": {
     "end_time": "2025-08-15T05:16:02.546317Z",
     "start_time": "2025-08-15T05:16:02.540030Z"
    }
   },
   "cell_type": "code",
   "source": "surface_wetness_data = pd.read_csv('Data/SurfaceWetness.csv')",
   "id": "5eabcf413e51dd16",
   "outputs": [],
   "execution_count": 92
  },
  {
   "metadata": {
    "ExecuteTime": {
     "end_time": "2025-08-15T05:16:02.593208Z",
     "start_time": "2025-08-15T05:16:02.586436Z"
    }
   },
   "cell_type": "code",
   "source": [
    "corn_months = ['MAY', 'JUN', 'JUL', 'AUG']\n",
    "\n",
    "wetness_avg = (\n",
    "    surface_wetness_data\n",
    "    .groupby('YEAR')[corn_months]\n",
    "    .mean()               # average for each month within the year\n",
    "    .assign(AVG_WETNESS=lambda df: df.mean(axis=1))  # mean across months\n",
    "    .reset_index()\n",
    ")"
   ],
   "id": "493fe23c8e8d3ed7",
   "outputs": [],
   "execution_count": 93
  },
  {
   "metadata": {
    "ExecuteTime": {
     "end_time": "2025-08-15T05:16:02.623084Z",
     "start_time": "2025-08-15T05:16:02.617473Z"
    }
   },
   "cell_type": "code",
   "source": [
    "corn_yields = corn_yields.merge(\n",
    "    wetness_avg[['YEAR', 'AVG_WETNESS']],\n",
    "    on='YEAR',\n",
    "    how='left'\n",
    ")"
   ],
   "id": "db7b9b9c55657d46",
   "outputs": [],
   "execution_count": 94
  },
  {
   "metadata": {
    "ExecuteTime": {
     "end_time": "2025-08-15T05:16:02.646020Z",
     "start_time": "2025-08-15T05:16:02.640528Z"
    }
   },
   "cell_type": "code",
   "source": [
    "corn_yields.pop('YEAR')\n",
    "corn_yields.columns"
   ],
   "id": "2307ba0a531f29c5",
   "outputs": [
    {
     "data": {
      "text/plain": [
       "Index(['YIELD', 'AVG_PRECIPITATION', 'AVG_TEMPERATURE', 'AVG_WETNESS'], dtype='object')"
      ]
     },
     "execution_count": 95,
     "metadata": {},
     "output_type": "execute_result"
    }
   ],
   "execution_count": 95
  },
  {
   "metadata": {
    "ExecuteTime": {
     "end_time": "2025-08-15T05:16:02.687917Z",
     "start_time": "2025-08-15T05:16:02.683786Z"
    }
   },
   "cell_type": "code",
   "source": [
    "import numpy as np\n",
    "from sklearn.ensemble import RandomForestRegressor\n",
    "from sklearn.model_selection import train_test_split, GridSearchCV, cross_val_score\n",
    "from sklearn.metrics import mean_squared_error, r2_score\n",
    "import matplotlib.pyplot as plt"
   ],
   "id": "651a313c4ce7ff23",
   "outputs": [],
   "execution_count": 96
  },
  {
   "metadata": {
    "ExecuteTime": {
     "end_time": "2025-08-15T05:16:02.718912Z",
     "start_time": "2025-08-15T05:16:02.713193Z"
    }
   },
   "cell_type": "code",
   "source": [
    "# Load data (replace with your full dataset)\n",
    "data = corn_yields\n",
    "\n",
    "# Check data variability\n",
    "print(\"Unique Values per Feature:\")\n",
    "print(data[['AVG_PRECIPITATION', 'AVG_TEMPERATURE', 'AVG_WETNESS']].nunique())"
   ],
   "id": "4d4e5898549d851f",
   "outputs": [
    {
     "name": "stdout",
     "output_type": "stream",
     "text": [
      "Unique Values per Feature:\n",
      "AVG_PRECIPITATION    25\n",
      "AVG_TEMPERATURE      25\n",
      "AVG_WETNESS          25\n",
      "dtype: int64\n"
     ]
    }
   ],
   "execution_count": 97
  },
  {
   "metadata": {
    "ExecuteTime": {
     "end_time": "2025-08-15T05:16:02.774363Z",
     "start_time": "2025-08-15T05:16:02.768400Z"
    }
   },
   "cell_type": "code",
   "source": [
    "# Check for outliers\n",
    "Q1 = data['YIELD'].quantile(0.25)\n",
    "Q3 = data['YIELD'].quantile(0.75)\n",
    "IQR = Q3 - Q1\n",
    "outliers = data[(data['YIELD'] < Q1 - 1.5*IQR) | (data['YIELD'] > Q3 + 1.5*IQR)]\n",
    "print(\"\\nYIELD Outliers:\")\n",
    "print(outliers)"
   ],
   "id": "44be65d5a85be9f4",
   "outputs": [
    {
     "name": "stdout",
     "output_type": "stream",
     "text": [
      "\n",
      "YIELD Outliers:\n",
      "     YIELD  AVG_PRECIPITATION  AVG_TEMPERATURE  AVG_WETNESS\n",
      "124   96.5            1.90875        24.485937     0.504062\n",
      "129   97.4            1.90875        24.485937     0.504062\n"
     ]
    }
   ],
   "execution_count": 98
  },
  {
   "metadata": {
    "ExecuteTime": {
     "end_time": "2025-08-15T05:16:02.788208Z",
     "start_time": "2025-08-15T05:16:02.783775Z"
    }
   },
   "cell_type": "code",
   "source": [
    "# Define features and target\n",
    "X = data[['AVG_PRECIPITATION', 'AVG_TEMPERATURE', 'AVG_WETNESS']]\n",
    "y = data['YIELD']\n",
    "X_train, X_test, y_train, y_test = train_test_split(X, y, test_size=0.2, random_state=42)\n",
    "\n",
    "# Hyperparameter tuning\n",
    "param_grid = {\n",
    "    'n_estimators': [50, 100, 200],\n",
    "    'max_depth': [None, 5, 10],\n",
    "    'min_samples_split': [2, 5, 10],\n",
    "    'min_samples_leaf': [1, 2, 4]\n",
    "}"
   ],
   "id": "59d7fc841446bd49",
   "outputs": [],
   "execution_count": 99
  },
  {
   "metadata": {
    "ExecuteTime": {
     "end_time": "2025-08-15T05:16:30.214516Z",
     "start_time": "2025-08-15T05:16:02.811250Z"
    }
   },
   "cell_type": "code",
   "source": [
    "grid_search = GridSearchCV(RandomForestRegressor(random_state=42), param_grid, cv=5, scoring='r2')\n",
    "grid_search.fit(X_train, y_train)\n",
    "\n",
    "print(\"\\nBest Parameters:\", grid_search.best_params_)\n",
    "print(\"Best Cross-Validated R²:\", grid_search.best_score_)\n",
    "# Train with best parameters"
   ],
   "id": "fee341ddd00329ff",
   "outputs": [
    {
     "name": "stdout",
     "output_type": "stream",
     "text": [
      "\n",
      "Best Parameters: {'max_depth': None, 'min_samples_leaf': 1, 'min_samples_split': 5, 'n_estimators': 200}\n",
      "Best Cross-Validated R²: 0.8538423265700696\n"
     ]
    }
   ],
   "execution_count": 100
  },
  {
   "metadata": {
    "ExecuteTime": {
     "end_time": "2025-08-15T05:16:30.259428Z",
     "start_time": "2025-08-15T05:16:30.254968Z"
    }
   },
   "cell_type": "code",
   "source": "rf_model = grid_search.best_estimator_",
   "id": "b9a5ac5526af7995",
   "outputs": [],
   "execution_count": 101
  },
  {
   "metadata": {
    "ExecuteTime": {
     "end_time": "2025-08-15T05:16:30.304522Z",
     "start_time": "2025-08-15T05:16:30.284970Z"
    }
   },
   "cell_type": "code",
   "source": [
    "y_pred = rf_model.predict(X_test)\n",
    "mse = mean_squared_error(y_test, y_pred)\n",
    "rmse = np.sqrt(mse)\n",
    "r2 = r2_score(y_test, y_pred)\n",
    "\n",
    "print(\"\\nModel Performance:\")\n",
    "print(f\"Mean Squared Error (MSE): {mse:.2f}\")\n",
    "print(f\"Root Mean Squared Error (RMSE): {rmse:.2f}\")\n",
    "print(f\"R² Score: {r2:.2f}\")\n",
    "\n",
    "# Feature Importance\n",
    "feature_importance = pd.Series(rf_model.feature_importances_, index=X.columns).sort_values(ascending=False)\n",
    "print(\"\\nFeature Importance:\")\n",
    "print(feature_importance)"
   ],
   "id": "336798b8624baefe",
   "outputs": [
    {
     "name": "stdout",
     "output_type": "stream",
     "text": [
      "\n",
      "Model Performance:\n",
      "Mean Squared Error (MSE): 98.08\n",
      "Root Mean Squared Error (RMSE): 9.90\n",
      "R² Score: 0.90\n",
      "\n",
      "Feature Importance:\n",
      "AVG_WETNESS          0.557322\n",
      "AVG_PRECIPITATION    0.237204\n",
      "AVG_TEMPERATURE      0.205474\n",
      "dtype: float64\n"
     ]
    }
   ],
   "execution_count": 102
  },
  {
   "metadata": {
    "ExecuteTime": {
     "end_time": "2025-08-15T05:21:18.778125Z",
     "start_time": "2025-08-15T05:21:18.696673Z"
    }
   },
   "cell_type": "code",
   "source": [
    "# Predict new data\n",
    "new_data = pd.DataFrame({\n",
    "    'AVG_PRECIPITATION': [3.131563],\n",
    "    'AVG_TEMPERATURE': [21.406562],\n",
    "    'AVG_WETNESS': [0.73]\n",
    "})\n",
    "prediction = rf_model.predict(new_data)\n",
    "print(f\"\\nPredicted YIELD: {prediction[0]:.2f}\")\n",
    "\n",
    "# Plot YIELD vs. AVG_PRECIPITATION\n",
    "plt.scatter(X['AVG_PRECIPITATION'], y, color='blue', alpha=0.5)\n",
    "plt.xlabel('Average Precipitation')\n",
    "plt.ylabel('Yield')\n",
    "plt.title('Yield vs. Average Precipitation')\n",
    "plt.show()"
   ],
   "id": "1cf9c1b0684c20ec",
   "outputs": [
    {
     "name": "stdout",
     "output_type": "stream",
     "text": [
      "\n",
      "Predicted YIELD: 203.42\n"
     ]
    },
    {
     "data": {
      "text/plain": [
       "<Figure size 640x480 with 1 Axes>"
      ],
      "image/png": "[encoded data removed]"
     },
     "metadata": {},
     "output_type": "display_data"
    }
   ],
   "execution_count": 122
  },
  {
   "metadata": {
    "ExecuteTime": {
     "end_time": "2025-08-15T05:18:13.141384Z",
     "start_time": "2025-08-15T05:18:13.129937Z"
    }
   },
   "cell_type": "code",
   "source": "corn_yields.loc[corn_yields['AVG_WETNESS'] >= 0.7]",
   "id": "96a221b46208d21f",
   "outputs": [
    {
     "data": {
      "text/plain": [
       "     YIELD  AVG_PRECIPITATION  AVG_TEMPERATURE  AVG_WETNESS\n",
       "38   200.5           3.131563        21.406562     0.729375\n",
       "39   209.6           3.131563        21.406562     0.729375\n",
       "40   209.2           3.131563        21.406562     0.729375\n",
       "41   206.0           3.131563        21.406562     0.729375\n",
       "42   194.6           3.131563        21.406562     0.729375\n",
       "..     ...                ...              ...          ...\n",
       "239  154.0           3.894531        21.567344     0.708438\n",
       "240  161.0           3.894531        21.567344     0.708438\n",
       "241  167.0           3.894531        21.567344     0.708438\n",
       "242  150.0           3.894531        21.567344     0.708438\n",
       "243  158.0           3.894531        21.567344     0.708438\n",
       "\n",
       "[97 rows x 4 columns]"
      ],
      "text/html": [
       "<div>\n",
       "<style scoped>\n",
       "    .dataframe tbody tr th:only-of-type {\n",
       "        vertical-align: middle;\n",
       "    }\n",
       "\n",
       "    .dataframe tbody tr th {\n",
       "        vertical-align: top;\n",
       "    }\n",
       "\n",
       "    .dataframe thead th {\n",
       "        text-align: right;\n",
       "    }\n",
       "</style>\n",
       "<table border=\"1\" class=\"dataframe\">\n",
       "  <thead>\n",
       "    <tr style=\"text-align: right;\">\n",
       "      <th></th>\n",
       "      <th>YIELD</th>\n",
       "      <th>AVG_PRECIPITATION</th>\n",
       "      <th>AVG_TEMPERATURE</th>\n",
       "      <th>AVG_WETNESS</th>\n",
       "    </tr>\n",
       "  </thead>\n",
       "  <tbody>\n",
       "    <tr>\n",
       "      <th>38</th>\n",
       "      <td>200.5</td>\n",
       "      <td>3.131563</td>\n",
       "      <td>21.406562</td>\n",
       "      <td>0.729375</td>\n",
       "    </tr>\n",
       "    <tr>\n",
       "      <th>39</th>\n",
       "      <td>209.6</td>\n",
       "      <td>3.131563</td>\n",
       "      <td>21.406562</td>\n",
       "      <td>0.729375</td>\n",
       "    </tr>\n",
       "    <tr>\n",
       "      <th>40</th>\n",
       "      <td>209.2</td>\n",
       "      <td>3.131563</td>\n",
       "      <td>21.406562</td>\n",
       "      <td>0.729375</td>\n",
       "    </tr>\n",
       "    <tr>\n",
       "      <th>41</th>\n",
       "      <td>206.0</td>\n",
       "      <td>3.131563</td>\n",
       "      <td>21.406562</td>\n",
       "      <td>0.729375</td>\n",
       "    </tr>\n",
       "    <tr>\n",
       "      <th>42</th>\n",
       "      <td>194.6</td>\n",
       "      <td>3.131563</td>\n",
       "      <td>21.406562</td>\n",
       "      <td>0.729375</td>\n",
       "    </tr>\n",
       "    <tr>\n",
       "      <th>...</th>\n",
       "      <td>...</td>\n",
       "      <td>...</td>\n",
       "      <td>...</td>\n",
       "      <td>...</td>\n",
       "    </tr>\n",
       "    <tr>\n",
       "      <th>239</th>\n",
       "      <td>154.0</td>\n",
       "      <td>3.894531</td>\n",
       "      <td>21.567344</td>\n",
       "      <td>0.708438</td>\n",
       "    </tr>\n",
       "    <tr>\n",
       "      <th>240</th>\n",
       "      <td>161.0</td>\n",
       "      <td>3.894531</td>\n",
       "      <td>21.567344</td>\n",
       "      <td>0.708438</td>\n",
       "    </tr>\n",
       "    <tr>\n",
       "      <th>241</th>\n",
       "      <td>167.0</td>\n",
       "      <td>3.894531</td>\n",
       "      <td>21.567344</td>\n",
       "      <td>0.708438</td>\n",
       "    </tr>\n",
       "    <tr>\n",
       "      <th>242</th>\n",
       "      <td>150.0</td>\n",
       "      <td>3.894531</td>\n",
       "      <td>21.567344</td>\n",
       "      <td>0.708438</td>\n",
       "    </tr>\n",
       "    <tr>\n",
       "      <th>243</th>\n",
       "      <td>158.0</td>\n",
       "      <td>3.894531</td>\n",
       "      <td>21.567344</td>\n",
       "      <td>0.708438</td>\n",
       "    </tr>\n",
       "  </tbody>\n",
       "</table>\n",
       "<p>97 rows × 4 columns</p>\n",
       "</div>"
      ]
     },
     "execution_count": 114,
     "metadata": {},
     "output_type": "execute_result"
    }
   ],
   "execution_count": 114
  },
  {
   "metadata": {
    "ExecuteTime": {
     "end_time": "2025-08-15T05:16:30.468579Z",
     "start_time": "2025-08-15T05:16:30.466266Z"
    }
   },
   "cell_type": "code",
   "source": "",
   "id": "7632ed9dbc632c45",
   "outputs": [],
   "execution_count": null
  }
 ],
 "metadata": {
  "kernelspec": {
   "name": "python3",
   "language": "python",
   "display_name": "Python 3 (ipykernel)"
  }
 },
 "nbformat": 4,
 "nbformat_minor": 5
}

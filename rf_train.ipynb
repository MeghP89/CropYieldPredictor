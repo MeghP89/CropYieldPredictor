{
 "cells": [
  {
   "metadata": {
    "ExecuteTime": {
     "end_time": "2025-08-15T17:14:30.503669Z",
     "start_time": "2025-08-15T17:14:29.192716Z"
    }
   },
   "cell_type": "code",
   "source": [
    "import pandas as pd\n",
    "import numpy as np\n",
    "from sklearn.ensemble import RandomForestRegressor\n",
    "from sklearn.model_selection import train_test_split, GridSearchCV, cross_val_score\n",
    "from sklearn.metrics import mean_squared_error, r2_score\n",
    "import matplotlib.pyplot as plt\n",
    "import pickle"
   ],
   "id": "ec9114930e820182",
   "outputs": [],
   "execution_count": 3
  },
  {
   "metadata": {},
   "cell_type": "markdown",
   "source": "Started by initializing all imports",
   "id": "498e6d1340bae04d"
  },
  {
   "metadata": {
    "ExecuteTime": {
     "end_time": "2025-08-15T17:14:30.528124Z",
     "start_time": "2025-08-15T17:14:30.511353Z"
    }
   },
   "cell_type": "code",
   "source": "corn_yields = pd.read_csv('Processed_Data/corn_yields_processed.csv')",
   "id": "d7fcc5dda9e53c32",
   "outputs": [],
   "execution_count": 4
  },
  {
   "metadata": {},
   "cell_type": "markdown",
   "source": "There are only 25 unique values as each feature here has only 25 values since they are all averages for one year from years 2000-2024",
   "id": "5e0c79588ecb1c04"
  },
  {
   "metadata": {
    "ExecuteTime": {
     "end_time": "2025-08-15T17:44:20.090370Z",
     "start_time": "2025-08-15T17:44:20.086576Z"
    }
   },
   "cell_type": "code",
   "source": "data = corn_yields",
   "id": "b438ea2cae6e6983",
   "outputs": [],
   "execution_count": 32
  },
  {
   "metadata": {
    "ExecuteTime": {
     "end_time": "2025-08-15T17:14:32.836865Z",
     "start_time": "2025-08-15T17:14:32.828161Z"
    }
   },
   "cell_type": "code",
   "source": [
    "# Check for outliers\n",
    "Q1 = data['YIELD'].quantile(0.25)\n",
    "Q3 = data['YIELD'].quantile(0.75)\n",
    "IQR = Q3 - Q1\n",
    "outliers = data[(data['YIELD'] < Q1 - 1.5*IQR) | (data['YIELD'] > Q3 + 1.5*IQR)]\n",
    "print(\"\\nYIELD Outliers:\")\n",
    "print(outliers)"
   ],
   "id": "44be65d5a85be9f4",
   "outputs": [
    {
     "name": "stdout",
     "output_type": "stream",
     "text": [
      "\n",
      "YIELD Outliers:\n",
      "     YIELD  AVG_PRECIPITATION  AVG_TEMPERATURE  AVG_WETNESS\n",
      "124   96.5            1.90875        24.485937     0.504062\n",
      "129   97.4            1.90875        24.485937     0.504062\n"
     ]
    }
   ],
   "execution_count": 25
  },
  {
   "metadata": {},
   "cell_type": "markdown",
   "source": "I checked here to see if there were any significant outlier that may need to be removed, but they were not significant enough to count as bad data",
   "id": "674b0581d99a2f85"
  },
  {
   "metadata": {
    "ExecuteTime": {
     "end_time": "2025-08-15T17:14:32.912987Z",
     "start_time": "2025-08-15T17:14:32.904343Z"
    }
   },
   "cell_type": "code",
   "source": [
    "# Define features and target\n",
    "X = data[['AVG_PRECIPITATION', 'AVG_TEMPERATURE', 'AVG_WETNESS']]\n",
    "y = data['YIELD']\n",
    "X_train, X_test, y_train, y_test = train_test_split(X, y, test_size=0.2, random_state=42)\n",
    "\n",
    "# Hyperparameter tuning\n",
    "param_grid = {\n",
    "    'n_estimators': [50, 100, 200],\n",
    "    'max_depth': [None, 3, 5, 7],\n",
    "    'min_samples_split': [2, 5, 10],\n",
    "    'min_samples_leaf': [1, 2, 4]\n",
    "}"
   ],
   "id": "59d7fc841446bd49",
   "outputs": [],
   "execution_count": 26
  },
  {
   "metadata": {},
   "cell_type": "markdown",
   "source": "I split my data into a train test split of ratio 80:20. I then set up my parameter that I would optimize by giving numerous combinations to try.",
   "id": "c0e38a4af8cd5fc6"
  },
  {
   "metadata": {
    "ExecuteTime": {
     "end_time": "2025-08-15T17:15:17.055805Z",
     "start_time": "2025-08-15T17:14:32.932742Z"
    }
   },
   "cell_type": "code",
   "source": [
    "grid_search = GridSearchCV(RandomForestRegressor(random_state=42), param_grid, cv=5, scoring='r2')\n",
    "grid_search.fit(X_train, y_train)\n",
    "\n",
    "print(\"\\nBest Parameters:\", grid_search.best_params_)\n",
    "print(\"Best Cross-Validated R squared:\", grid_search.best_score_)\n",
    "# Train with best parameters"
   ],
   "id": "fee341ddd00329ff",
   "outputs": [
    {
     "name": "stdout",
     "output_type": "stream",
     "text": [
      "\n",
      "Best Parameters: {'max_depth': None, 'min_samples_leaf': 1, 'min_samples_split': 5, 'n_estimators': 200}\n",
      "Best Cross-Validated R squared: 0.8538423265700696\n"
     ]
    }
   ],
   "execution_count": 27
  },
  {
   "metadata": {},
   "cell_type": "markdown",
   "source": "Here I used a scikit-learn hyperparameter tuning pipeline using grid search with cross-validation for a RandomForestRegressor model. This allowed me to find the hyperparameters that would give me the highest R^2 score",
   "id": "89e1e8dd89c17ee6"
  },
  {
   "metadata": {
    "ExecuteTime": {
     "end_time": "2025-08-15T17:15:17.125241Z",
     "start_time": "2025-08-15T17:15:17.122871Z"
    }
   },
   "cell_type": "code",
   "source": "rf_model = grid_search.best_estimator_",
   "id": "dc368fb9a3cd5ac6",
   "outputs": [],
   "execution_count": 28
  },
  {
   "metadata": {},
   "cell_type": "markdown",
   "source": "I assign the model I will use here as the one that was the best estimator by grid search",
   "id": "fe21d4781977a02e"
  },
  {
   "metadata": {
    "ExecuteTime": {
     "end_time": "2025-08-15T17:15:17.160498Z",
     "start_time": "2025-08-15T17:15:17.136847Z"
    }
   },
   "cell_type": "code",
   "source": [
    "y_pred = rf_model.predict(X_test)\n",
    "mse = mean_squared_error(y_test, y_pred)\n",
    "rmse = np.sqrt(mse)\n",
    "r2 = r2_score(y_test, y_pred)\n",
    "\n",
    "print(\"\\nModel Performance:\")\n",
    "print(f\"Mean Squared Error (MSE): {mse:.2f}\")\n",
    "print(f\"Root Mean Squared Error (RMSE): {rmse:.2f}\")\n",
    "print(f\"R squared Score: {r2:.2f}\")\n",
    "\n",
    "# Feature Importance\n",
    "feature_importance = pd.Series(rf_model.feature_importances_, index=X.columns).sort_values(ascending=False)\n",
    "print(\"\\nFeature Importance:\")\n",
    "print(feature_importance)"
   ],
   "id": "336798b8624baefe",
   "outputs": [
    {
     "name": "stdout",
     "output_type": "stream",
     "text": [
      "\n",
      "Model Performance:\n",
      "Mean Squared Error (MSE): 98.08\n",
      "Root Mean Squared Error (RMSE): 9.90\n",
      "R squared Score: 0.90\n",
      "\n",
      "Feature Importance:\n",
      "AVG_WETNESS          0.557322\n",
      "AVG_PRECIPITATION    0.237204\n",
      "AVG_TEMPERATURE      0.205474\n",
      "dtype: float64\n"
     ]
    }
   ],
   "execution_count": 29
  },
  {
   "metadata": {},
   "cell_type": "markdown",
   "source": "I then here check the accuracy of my model by seeing it's scores on my test set. I utilize mean squared error, root mean squared error, and r squared to gauge the accuracy of my model. I also then check what importance the model has assigned to each feature to determine what factor affects corn yields the most.",
   "id": "9a36e3b6b4ff13f9"
  },
  {
   "metadata": {
    "ExecuteTime": {
     "end_time": "2025-08-15T17:15:17.364117Z",
     "start_time": "2025-08-15T17:15:17.181113Z"
    }
   },
   "cell_type": "code",
   "source": [
    "# Predict new data\n",
    "new_data = pd.DataFrame({\n",
    "    'AVG_PRECIPITATION': [3.131563],\n",
    "    'AVG_TEMPERATURE': [21.406562],\n",
    "    'AVG_WETNESS': [0.73]\n",
    "})\n",
    "prediction = rf_model.predict(new_data)\n",
    "print(f\"\\nPredicted YIELD: {prediction[0]:.2f}\")\n",
    "\n",
    "# Plot YIELD vs. AVG_PRECIPITATION\n",
    "plt.scatter(X['AVG_WETNESS'], y, color='blue', alpha=0.5)\n",
    "plt.xlabel('Average Surface Wetness')\n",
    "plt.ylabel('Yield')\n",
    "plt.title('Yield vs. Average Surface Wetness')\n",
    "plt.show()"
   ],
   "id": "1cf9c1b0684c20ec",
   "outputs": [
    {
     "name": "stdout",
     "output_type": "stream",
     "text": [
      "\n",
      "Predicted YIELD: 203.42\n"
     ]
    },
    {
     "data": {
      "text/plain": [
       "<Figure size 640x480 with 1 Axes>"
      ],
      "image/png": "[encoded data removed]"
     },
     "metadata": {},
     "output_type": "display_data"
    }
   ],
   "execution_count": 30
  },
  {
   "metadata": {},
   "cell_type": "markdown",
   "source": "I took the trained random forest model and gave it new climate data (average precipitation, temperature, and wetness) to see what yield it would predict. Then I plotted a scatter chart of historical yields versus average precipitation so I can visually check if the prediction makes sense compared to past data.",
   "id": "6a566abc3e9af81c"
  },
  {
   "metadata": {
    "ExecuteTime": {
     "end_time": "2025-08-15T17:15:17.413314Z",
     "start_time": "2025-08-15T17:15:17.410334Z"
    }
   },
   "cell_type": "code",
   "source": [
    "with open(\"models/rf_model.pkl\", \"wb\") as f:\n",
    "    pickle.dump(rf_model, f)"
   ],
   "id": "1061c44271851c16",
   "outputs": [],
   "execution_count": 31
  },
  {
   "metadata": {},
   "cell_type": "markdown",
   "source": "I save the random forest model as a pkl file here",
   "id": "904a5219b1d3cc9e"
  }
 ],
 "metadata": {
  "kernelspec": {
   "name": "python3",
   "language": "python",
   "display_name": "Python 3 (ipykernel)"
  }
 },
 "nbformat": 4,
 "nbformat_minor": 5
}
